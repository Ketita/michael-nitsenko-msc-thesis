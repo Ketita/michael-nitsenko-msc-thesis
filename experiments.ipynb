{
 "cells": [
  {
   "cell_type": "markdown",
   "metadata": {},
   "source": [
    "# Experiments"
   ]
  },
  {
   "cell_type": "code",
   "execution_count": 2,
   "metadata": {},
   "outputs": [],
   "source": [
    "import numpy as np\n",
    "import sys\n",
    "import scipy\n",
    "import math\n",
    "import json\n",
    "import time\n",
    "import datetime\n",
    "import matplotlib.pyplot as plt"
   ]
  },
  {
   "cell_type": "code",
   "execution_count": 3,
   "metadata": {},
   "outputs": [],
   "source": [
    "# Importing standard Qiskit libraries and configuring account\n",
    "from qiskit import QuantumCircuit, Aer, execute, IBMQ\n",
    "from qiskit.circuit import Parameter, Gate\n",
    "from qiskit.tools.jupyter import *\n",
    "from qiskit.visualization import *\n",
    "%config InlineBackend.figure_format = 'svg'\n",
    "\n",
    "from qiskit import QuantumRegister, ClassicalRegister\n",
    "from qiskit.providers.ibmq import least_busy\n",
    "from qiskit import visualization"
   ]
  },
  {
   "cell_type": "code",
   "execution_count": 4,
   "metadata": {},
   "outputs": [],
   "source": [
    "from env import *\n",
    "import utils\n",
    "import qutils"
   ]
  },
  {
   "cell_type": "code",
   "execution_count": 5,
   "metadata": {},
   "outputs": [],
   "source": [
    "def custom_u_h(numberOfQubits):\n",
    "    qc = QuantumCircuit(numberOfQubits, name='custom_u_h')\n",
    "    for i in range(numberOfQubits):\n",
    "        qc.h(i)\n",
    "    \n",
    "    return qc\n",
    "\n",
    "def custom_hcrzch(numberOfQubits, parameter):\n",
    "    qc = QuantumCircuit(numberOfQubits, name='custom_hcrzch')\n",
    "    \n",
    "    for i in range(numberOfQubits):\n",
    "        qc.h(i)\n",
    "    \n",
    "    last_qubit_index = numberOfQubits - 1\n",
    "    for i in range(last_qubit_index):\n",
    "        qc.cx(i, i + 1)\n",
    "    \n",
    "    qc.rz(parameter, last_qubit_index)\n",
    "    \n",
    "    for i in reversed(range(last_qubit_index)):\n",
    "        qc.cx(i, i + 1)\n",
    "    \n",
    "    for i in range(numberOfQubits):\n",
    "        qc.h(i)\n",
    "    \n",
    "    return qc\n",
    "\n",
    "def custom_success_reflection(numberOfQubits):\n",
    "    qc = QuantumCircuit(numberOfQubits, name='custom_success_reflection')\n",
    "    qc.z(0)\n",
    "    return qc\n",
    "\n",
    "def custom_reflection_start_state(numberOfQubits):\n",
    "    qc = QuantumCircuit(numberOfQubits, name='custom_reflection_start_state')\n",
    "    last_qubit_index = numberOfQubits - 1\n",
    "    for j in range(numberOfQubits):\n",
    "            qc.x(j)\n",
    "        \n",
    "    qc.h(last_qubit_index)\n",
    "    qc.mct([qc.qubits[qi] for qi in range(last_qubit_index)],\n",
    "            qc.qubits[last_qubit_index],\n",
    "            None,\n",
    "            mode=\"noancilla\")\n",
    "    qc.h(last_qubit_index)\n",
    "        \n",
    "    for j in range(numberOfQubits):\n",
    "        qc.x(j)\n",
    "        \n",
    "    return qc\n",
    "\n",
    "def amplitude_circuit(numberOfQubits, unitary, success_reflection_unitary, iterations, barriers=True):\n",
    "    qubits_range = range(numberOfQubits)\n",
    "    circuit = QuantumCircuit(numberOfQubits, numberOfQubits)\n",
    "    circuit.append(unitary.to_instruction(), qubits_range)\n",
    "    \n",
    "    reflection_start_state = custom_reflection_start_state(numberOfQubits)\n",
    "    for i in range(iterations):\n",
    "        if barriers: circuit.barrier()\n",
    "        circuit.append(success_reflection_unitary.to_instruction(), qubits_range)\n",
    "        if barriers: circuit.barrier()\n",
    "        circuit.append(unitary.inverse().to_instruction(), qubits_range)\n",
    "        if barriers: circuit.barrier()\n",
    "        circuit.append(reflection_start_state.to_instruction(), qubits_range)\n",
    "        if barriers: circuit.barrier()\n",
    "        circuit.append(unitary.to_instruction(), qubits_range)\n",
    "    \n",
    "    return circuit"
   ]
  },
  {
   "cell_type": "markdown",
   "metadata": {},
   "source": [
    "## Run"
   ]
  },
  {
   "cell_type": "code",
   "execution_count": 6,
   "metadata": {},
   "outputs": [],
   "source": [
    "def runZeroExperiment(device, shots):\n",
    "    circuit = circuit_zero()\n",
    "    transpiled_qc = qutils.optimize(circuit, device)\n",
    "    qobj = qutils.build(transpiled_qc, device, shots)\n",
    "    parameters = None\n",
    "    path = '' if SKIP_RUN else qutils.run(qobj, device, parameters, \"zero_experiment\")\n",
    "    return circuit, transpiled_qc, path\n",
    "\n",
    "def runThetaExperiment(circuit, device, theta, values, shots, comment = \"\"):\n",
    "    transpiled_qc = qutils.optimize(circuit, device)\n",
    "    circuits = [transpiled_qc.bind_parameters({theta: n}) for n in values]\n",
    "    \n",
    "    qobj = qutils.build(circuits, device, shots)\n",
    "    parameters = {str(theta): values}\n",
    "    path = '' if SKIP_RUN else qutils.run(qobj, device, parameters, comment)\n",
    "    return circuit, transpiled_qc, path\n",
    "\n",
    "def runExperiment(circuit, device, shots, comment = \"\"):\n",
    "    transpiled_qc = qutils.optimize(circuit, device)\n",
    "    qobj = qutils.build(transpiled_qc, device, shots)\n",
    "    parameters = {}\n",
    "    path = '' if SKIP_RUN else qutils.run(qobj, device, parameters, comment)\n",
    "    return circuit, transpiled_qc, path"
   ]
  },
  {
   "cell_type": "markdown",
   "metadata": {},
   "source": [
    "# Experiments"
   ]
  },
  {
   "cell_type": "markdown",
   "metadata": {},
   "source": [
    "## Amplified"
   ]
  },
  {
   "cell_type": "markdown",
   "metadata": {},
   "source": [
    "### parametrized"
   ]
  },
  {
   "cell_type": "code",
   "execution_count": 7,
   "metadata": {},
   "outputs": [
    {
     "name": "stdout",
     "output_type": "stream",
     "text": [
      "\n"
     ]
    }
   ],
   "source": [
    "SKIP_RUN = True\n",
    "nq = 2\n",
    "a = custom_hcrzch(nq, THETA)\n",
    "b = custom_success_reflection(nq)\n",
    "\n",
    "iterations = 0\n",
    "qc = amplitude_circuit(nq, a, b, iterations, False)\n",
    "#qc.barrier()\n",
    "qc.measure([i for i in range(nq)], [i for i in range(nq)])\n",
    "COMMENT = \"Parametrized Amplified Experiment on \" + str(nq) + \" qubits, noancilla, measurements on all qubits, \" + str(iterations) + \"iterations\"\n",
    "a_circuit, a_transpiled, a_path = runThetaExperiment(qc,\n",
    "                                                     CURRENT_DEVICE,\n",
    "                                                     THETA,\n",
    "                                                     THETA_VALUES,\n",
    "                                                     SHOTS,\n",
    "                                                     COMMENT)\n",
    "\n",
    "a_files_path = a_path.replace(\".json\", \"\")\n",
    "a_circuit.decompose().draw(output=\"mpl\", filename=a_files_path + \".pdf\")\n",
    "a_transpiled.decompose().draw(output=\"mpl\", filename=a_files_path + \"_transpiled.pdf\")\n",
    "print(a_files_path)"
   ]
  }
 ],
 "metadata": {
  "kernelspec": {
   "display_name": "env",
   "language": "python",
   "name": "env"
  },
  "language_info": {
   "codemirror_mode": {
    "name": "ipython",
    "version": 3
   },
   "file_extension": ".py",
   "mimetype": "text/x-python",
   "name": "python",
   "nbconvert_exporter": "python",
   "pygments_lexer": "ipython3",
   "version": "3.7.6"
  }
 },
 "nbformat": 4,
 "nbformat_minor": 2
}
